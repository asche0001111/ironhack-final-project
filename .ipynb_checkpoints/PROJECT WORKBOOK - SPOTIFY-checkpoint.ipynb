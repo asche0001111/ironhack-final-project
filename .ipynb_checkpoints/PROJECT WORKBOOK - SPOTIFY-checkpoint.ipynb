{
 "cells": [
  {
   "cell_type": "code",
   "execution_count": 55,
   "id": "dd625575-be99-4bc9-a9b9-dd378a7a5342",
   "metadata": {},
   "outputs": [],
   "source": [
    "import spotipy\n",
    "from spotipy.oauth2 import SpotifyClientCredentials\n",
    "import re\n",
    "import os\n",
    "import env\n",
    "from sklearn.cluster import KMeans\n",
    "import numpy as np\n",
    "from sklearn.metrics.pairwise import euclidean_distances\n",
    "\n",
    "sp = spotipy.Spotify(auth_manager=SpotifyClientCredentials(\n",
    "    client_id=env.SPOTIPY_CLIENT_ID,\n",
    "    client_secret=env.SPOTIPY_CLIENT_SECRET\n",
    "))"
   ]
  },
  {
   "cell_type": "code",
   "execution_count": 29,
   "id": "97a241a4-4dde-4bd7-988a-a934d67bd25a",
   "metadata": {},
   "outputs": [],
   "source": [
    "def extract_track_id(spotify_url):\n",
    "    match = re.match(r'(https?://open\\.spotify\\.com/track/|spotify:track:)([a-zA-Z0-9]+)', spotify_url)\n",
    "    if match:\n",
    "        return match.group(2)\n",
    "    else:\n",
    "        raise ValueError(\"Invalid Spotify URL\")"
   ]
  },
  {
   "cell_type": "code",
   "execution_count": 30,
   "id": "c384e096-282a-4e3c-9ca7-7e5954c88151",
   "metadata": {},
   "outputs": [
    {
     "name": "stdin",
     "output_type": "stream",
     "text": [
      "Input your URL here:  https://open.spotify.com/track/1EeBS5q3bCOoSOYpRs1X7O?si=1198417279fa4773\n"
     ]
    }
   ],
   "source": [
    "track_id = extract_track_id(input(\"Input your URL here: \"))"
   ]
  },
  {
   "cell_type": "code",
   "execution_count": 31,
   "id": "077025af-8612-45cc-b0a4-65c28f57c791",
   "metadata": {},
   "outputs": [],
   "source": [
    "def get_track_details(track_id):\n",
    "    track = sp.track(track_id)\n",
    "    features = sp.audio_features(track_id)\n",
    "    return {\n",
    "        'name': track['name'],\n",
    "        'artist': track['artists'][0]['name'],\n",
    "        'artist_id': track['artists'][0]['id'],\n",
    "        'album': track['album']['name'],\n",
    "        'release_date': track['album']['release_date'],\n",
    "        'energy': features[0]['energy'],\n",
    "        'tempo': features[0]['tempo'],\n",
    "        'valence': features[0]['valence']\n",
    "    }"
   ]
  },
  {
   "cell_type": "code",
   "execution_count": 32,
   "id": "10ecc90f-51b2-44a3-b1ae-5c03b431929d",
   "metadata": {},
   "outputs": [
    {
     "data": {
      "text/plain": [
       "{'name': 'A1 Earth Wart',\n",
       " 'artist': 'Sam De La Rosa',\n",
       " 'artist_id': '70Dwm7Xy1Zb91DtbUUCdS3',\n",
       " 'album': 'Earth Wart',\n",
       " 'release_date': '2018-02-13',\n",
       " 'energy': 0.857,\n",
       " 'tempo': 112.999,\n",
       " 'valence': 0.138}"
      ]
     },
     "execution_count": 32,
     "metadata": {},
     "output_type": "execute_result"
    }
   ],
   "source": [
    "track_data = get_track_details(track_id)\n",
    "get_track_details(track_id)"
   ]
  },
  {
   "cell_type": "code",
   "execution_count": 42,
   "id": "cb05c5e3-8231-4f3e-bc18-bed877dd7e4d",
   "metadata": {},
   "outputs": [],
   "source": [
    "def get_related_artists(artist_id):\n",
    "    related_artists = sp.artist_related_artists(artist_id)\n",
    "    return [artist['id'] for artist in related_artists['artists']]"
   ]
  },
  {
   "cell_type": "code",
   "execution_count": 43,
   "id": "d03a041f-26d6-4cd4-ac98-3ce9bb174c32",
   "metadata": {},
   "outputs": [],
   "source": [
    "artist_id = track_data['artist_id']\n",
    "related_artists = get_related_artists(artist_id)"
   ]
  },
  {
   "cell_type": "code",
   "execution_count": 35,
   "id": "7ce1cf00-b31f-4c88-b248-d85f15ec9c22",
   "metadata": {},
   "outputs": [],
   "source": [
    "def get_artist_top_tracks(artist_id):\n",
    "    top_tracks = sp.artist_top_tracks(artist_id)\n",
    "    return [track['id'] for track in top_tracks['tracks']]"
   ]
  },
  {
   "cell_type": "code",
   "execution_count": 36,
   "id": "17479b9c-75f9-4c80-93ef-3fffa196138e",
   "metadata": {},
   "outputs": [
    {
     "data": {
      "text/plain": [
       "['1EeBS5q3bCOoSOYpRs1X7O',\n",
       " '7eDS5dbjNKXlCaojYKIGPo',\n",
       " '7wsyng8FcnTnG4zQKXqKZ9',\n",
       " '2C4qfKRyRcMICr3ZwR86OB',\n",
       " '3NpdrctIb4y8K7bwWAF8VE',\n",
       " '03hNKs8h2TxLkkCumDZhnL',\n",
       " '4oNI23Bv0LgqW3vaUdwRHk',\n",
       " '0zBQIn7Zf5o9N8k96sJeJt',\n",
       " '695fwWIUmIFKMKER6poTbU',\n",
       " '297J7RB6PDmFaNObRkeCsq']"
      ]
     },
     "execution_count": 36,
     "metadata": {},
     "output_type": "execute_result"
    }
   ],
   "source": [
    "get_artist_top_tracks(artist_id)"
   ]
  },
  {
   "cell_type": "code",
   "execution_count": 45,
   "id": "6df05c8e-9376-4395-99cd-bad73f412397",
   "metadata": {},
   "outputs": [],
   "source": [
    "def get_related_top(related_artists):\n",
    "    related_top_tracks = []\n",
    "    for i in related_artists:\n",
    "        top_tracks = sp.artist_top_tracks(i)\n",
    "        related_top_tracks += [track['id'] for track in top_tracks['tracks']]\n",
    "    return related_top_tracks"
   ]
  },
  {
   "cell_type": "code",
   "execution_count": 47,
   "id": "affe2343-fade-42a5-8baf-56fe363c11f8",
   "metadata": {},
   "outputs": [],
   "source": [
    "get_related_top(related_artists)\n",
    "top_artist_rel = get_related_top(related_artists)"
   ]
  },
  {
   "cell_type": "code",
   "execution_count": 50,
   "id": "6740a6cb-e0d0-48d9-b666-ed4b9b526559",
   "metadata": {},
   "outputs": [],
   "source": [
    "def get_related_features(top_artist_rel):\n",
    "    related_features = []\n",
    "    for i in top_artist_rel:\n",
    "        track = sp.track(i)\n",
    "        features = sp.audio_features(i)\n",
    "        related_features.append({\n",
    "            'name': track['name'],\n",
    "            'artist': track['artists'][0]['name'],\n",
    "            'artist_id': track['artists'][0]['id'],\n",
    "            'album': track['album']['name'],\n",
    "            'release_date': track['album']['release_date'],\n",
    "            'energy': features[0]['energy'],\n",
    "            'tempo': features[0]['tempo'],\n",
    "            'valence': features[0]['valence']\n",
    "        })\n",
    "    return related_features"
   ]
  },
  {
   "cell_type": "code",
   "execution_count": 53,
   "id": "6089090f-20d0-4d13-b5a5-84174331f7ea",
   "metadata": {},
   "outputs": [],
   "source": [
    "track_features = get_related_features(top_artist_rel)"
   ]
  },
  {
   "cell_type": "code",
   "execution_count": 54,
   "id": "148eee21-b86e-4a57-8027-ee583e1ea84a",
   "metadata": {},
   "outputs": [
    {
     "name": "stderr",
     "output_type": "stream",
     "text": [
      "/Users/akirichenko/anaconda3/lib/python3.11/site-packages/sklearn/cluster/_kmeans.py:870: FutureWarning: The default value of `n_init` will change from 10 to 'auto' in 1.4. Set the value of `n_init` explicitly to suppress the warning\n",
      "  warnings.warn(\n"
     ]
    }
   ],
   "source": [
    "# Extract features for clustering\n",
    "X = np.array([[f['energy'], f['tempo'], f['valence']] for f in track_features])\n",
    "\n",
    "# Apply K-Means clustering\n",
    "kmeans = KMeans(n_clusters=5, random_state=0).fit(X)\n"
   ]
  },
  {
   "cell_type": "code",
   "execution_count": 58,
   "id": "7daee3ca-7310-4469-8cf1-47a981e1a35e",
   "metadata": {},
   "outputs": [],
   "source": [
    "def recommend_tracks(track_data, track_features, kmeans_model, n_recommendations=3):\n",
    "    input_features = np.array([[track_data['energy'], track_data['tempo'], track_data['valence']]])\n",
    "    input_cluster = kmeans_model.predict(input_features)[0]\n",
    "    \n",
    "    cluster_indices = [i for i, label in enumerate(kmeans_model.labels_) if label == input_cluster]\n",
    "    \n",
    "    cluster_tracks = [track_features[i] for i in cluster_indices]\n",
    "    cluster_features = np.array([[f['energy'], f['tempo'], f['valence']] for f in cluster_tracks])\n",
    "    \n",
    "    distances = euclidean_distances(input_features, cluster_features)[0]\n",
    "    closest_indices = distances.argsort()[:n_recommendations]\n",
    "    \n",
    "    recommended_tracks = [cluster_tracks[i] for i in closest_indices]\n",
    "    \n",
    "    return recommended_tracks"
   ]
  },
  {
   "cell_type": "code",
   "execution_count": 61,
   "id": "c0b210bf-8d52-4593-9318-9b4968740324",
   "metadata": {},
   "outputs": [
    {
     "name": "stdin",
     "output_type": "stream",
     "text": [
      "Input your URL here:  https://open.spotify.com/track/6sNQwBUNQZkSE6NI21jPmZ?si=e653c0cac5e94797\n"
     ]
    },
    {
     "name": "stdout",
     "output_type": "stream",
     "text": [
      "Recommended Tracks: [{'name': 'Beware the Silence', 'artist': 'Psychonaut 4', 'artist_id': '7oBiHmzfoAYKAFU5uO65Jc', 'album': 'Dipsomania', 'release_date': '2015-04-23', 'energy': 0.757, 'tempo': 124.982, 'valence': 0.147}, {'name': 'Letting Go', 'artist': 'Happy Days', 'artist_id': '0Csv0ChHA3vtRvuVc1a671', 'album': 'Happiness Stops Here...', 'release_date': '2019-04-14', 'energy': 0.975, 'tempo': 124.117, 'valence': 0.0296}, {'name': 'What It Feels to Be Unloved', 'artist': 'Happy Days', 'artist_id': '0Csv0ChHA3vtRvuVc1a671', 'album': 'Happiness Stops Here...', 'release_date': '2019-04-14', 'energy': 0.999, 'tempo': 124.125, 'valence': 0.0155}]\n"
     ]
    },
    {
     "name": "stderr",
     "output_type": "stream",
     "text": [
      "/Users/akirichenko/anaconda3/lib/python3.11/site-packages/sklearn/cluster/_kmeans.py:870: FutureWarning: The default value of `n_init` will change from 10 to 'auto' in 1.4. Set the value of `n_init` explicitly to suppress the warning\n",
      "  warnings.warn(\n"
     ]
    }
   ],
   "source": [
    "track_id = extract_track_id(input(\"Input your URL here: \"))\n",
    "track_data = get_track_details(track_id)\n",
    "artist_id = track_data['artist_id']\n",
    "related_artists = get_related_artists(artist_id)\n",
    "top_artist_rel = get_related_top(related_artists)\n",
    "track_features = get_related_features(top_artist_rel)\n",
    "X = np.array([[f['energy'], f['tempo'], f['valence']] for f in track_features])\n",
    "kmeans = KMeans(n_clusters=5, random_state=0).fit(X)\n",
    "\n",
    "\n",
    "recommended_tracks = recommend_tracks(track_data, track_features, kmeans)\n",
    "print(\"Recommended Tracks:\", recommended_tracks)"
   ]
  },
  {
   "cell_type": "code",
   "execution_count": null,
   "id": "caf9492e-adb2-4f8d-9c8c-191e3dbc952a",
   "metadata": {},
   "outputs": [],
   "source": []
  }
 ],
 "metadata": {
  "kernelspec": {
   "display_name": "Python 3 (ipykernel)",
   "language": "python",
   "name": "python3"
  },
  "language_info": {
   "codemirror_mode": {
    "name": "ipython",
    "version": 3
   },
   "file_extension": ".py",
   "mimetype": "text/x-python",
   "name": "python",
   "nbconvert_exporter": "python",
   "pygments_lexer": "ipython3",
   "version": "3.11.5"
  }
 },
 "nbformat": 4,
 "nbformat_minor": 5
}
