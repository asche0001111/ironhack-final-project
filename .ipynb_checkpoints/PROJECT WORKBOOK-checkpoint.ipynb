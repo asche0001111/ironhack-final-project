{
 "cells": [
  {
   "cell_type": "code",
   "execution_count": 1,
   "id": "dd625575-be99-4bc9-a9b9-dd378a7a5342",
   "metadata": {},
   "outputs": [
    {
     "name": "stdout",
     "output_type": "stream",
     "text": [
      "zomgg haiii\n"
     ]
    }
   ],
   "source": [
    "print(\"zomgg haiii\")"
   ]
  },
  {
   "cell_type": "code",
   "execution_count": null,
   "id": "97a241a4-4dde-4bd7-988a-a934d67bd25a",
   "metadata": {},
   "outputs": [],
   "source": []
  }
 ],
 "metadata": {
  "kernelspec": {
   "display_name": "Python 3 (ipykernel)",
   "language": "python",
   "name": "python3"
  },
  "language_info": {
   "codemirror_mode": {
    "name": "ipython",
    "version": 3
   },
   "file_extension": ".py",
   "mimetype": "text/x-python",
   "name": "python",
   "nbconvert_exporter": "python",
   "pygments_lexer": "ipython3",
   "version": "3.11.5"
  }
 },
 "nbformat": 4,
 "nbformat_minor": 5
}
