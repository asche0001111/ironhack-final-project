{
 "cells": [
  {
   "cell_type": "code",
   "execution_count": null,
   "id": "b6cf7581-4f4b-41cf-b766-df81ba4d9e97",
   "metadata": {},
   "outputs": [],
   "source": [
    "import spotipy\n",
    "from spotipy.oauth2 import SpotifyClientCredentials\n",
    "import re\n",
    "import os\n",
    "import env\n",
    "from sklearn.cluster import KMeans\n",
    "import numpy as np\n",
    "from sklearn.metrics.pairwise import euclidean_distances\n",
    "\n",
    "# Initialize Spotipy with Spotify API credentials\n",
    "sp = spotipy.Spotify(auth_manager=SpotifyClientCredentials(\n",
    "    client_id=env.SPOTIPY_CLIENT_ID,\n",
    "    client_secret=env.SPOTIPY_CLIENT_SECRET\n",
    "))\n",
    "\n",
    "def extract_track_id(spotify_url):\n",
    "    match = re.match(r'(https?://open\\.spotify\\.com/track/|spotify:track:)([a-zA-Z0-9]+)', spotify_url)\n",
    "    if match:\n",
    "        return match.group(2)\n",
    "    else:\n",
    "        raise ValueError(\"Invalid Spotify URL\")\n",
    "\n",
    "def get_track_details(track_id):\n",
    "    track = sp.track(track_id)\n",
    "    features = sp.audio_features(track_id)\n",
    "    return {\n",
    "        'id': track_id,\n",
    "        'name': track['name'],\n",
    "        'artist': track['artists'][0]['name'],\n",
    "        'artist_id': track['artists'][0]['id'],\n",
    "        'album': track['album']['name'],\n",
    "        'release_date': track['album']['release_date'],\n",
    "        'energy': features[0]['energy'],\n",
    "        'tempo': features[0]['tempo'],\n",
    "        'valence': features[0]['valence'],\n",
    "        'url': track['external_urls']['spotify']\n",
    "    }\n",
    "\n",
    "def get_related_artists(artist_id):\n",
    "    related_artists = sp.artist_related_artists(artist_id)\n",
    "    return [artist['id'] for artist in related_artists['artists']]\n",
    "\n",
    "def get_artist_top_tracks(artist_id):\n",
    "    top_tracks = sp.artist_top_tracks(artist_id)\n",
    "    return [track['id'] for track in top_tracks['tracks']]\n",
    "\n",
    "def get_related_top(related_artists):\n",
    "    related_top_tracks = []\n",
    "    for i in related_artists:\n",
    "        top_tracks = sp.artist_top_tracks(i)\n",
    "        related_top_tracks += [track['id'] for track in top_tracks['tracks']]\n",
    "    return related_top_tracks\n",
    "\n",
    "def get_related_features(top_artist_rel):\n",
    "    related_features = []\n",
    "    for i in top_artist_rel:\n",
    "        track = sp.track(i)\n",
    "        features = sp.audio_features(i)\n",
    "        related_features.append({\n",
    "            'id': i,\n",
    "            'name': track['name'],\n",
    "            'artist': track['artists'][0]['name'],\n",
    "            'artist_id': track['artists'][0]['id'],\n",
    "            'album': track['album']['name'],\n",
    "            'release_date': track['album']['release_date'],\n",
    "            'energy': features[0]['energy'],\n",
    "            'tempo': features[0]['tempo'],\n",
    "            'valence': features[0]['valence'],\n",
    "            'url': track['external_urls']['spotify']\n",
    "        })\n",
    "    return related_features\n",
    "\n",
    "def recommend_tracks(track_data, track_features, kmeans_model, n_recommendations=3):\n",
    "    input_features = np.array([[track_data['energy'], track_data['tempo'], track_data['valence']]])\n",
    "    input_cluster = kmeans_model.predict(input_features)[0]\n",
    "    \n",
    "    cluster_indices = [i for i, label in enumerate(kmeans_model.labels_) if label == input_cluster]\n",
    "    \n",
    "    cluster_tracks = [track_features[i] for i in cluster_indices]\n",
    "    cluster_features = np.array([[f['energy'], f['tempo'], f['valence']] for f in cluster_tracks])\n",
    "    \n",
    "    distances = euclidean_distances(input_features, cluster_features)[0]\n",
    "    closest_indices = distances.argsort()[:n_recommendations + 1]  # Get one extra to account for input track\n",
    "    \n",
    "    recommended_tracks = [cluster_tracks[i] for i in closest_indices if cluster_tracks[i]['id'] != track_data['id']]\n",
    "    \n",
    "    return recommended_tracks[:n_recommendations]\n",
    "\n",
    "def main():\n",
    "    spotify_url = input(\"Input your Spotify track URL here: \")\n",
    "    track_id = extract_track_id(spotify_url)\n",
    "    track_data = get_track_details(track_id)\n",
    "    artist_id = track_data['artist_id']\n",
    "    related_artists = get_related_artists(artist_id)\n",
    "    top_artist_rel = get_related_top(related_artists)\n",
    "    track_features = get_related_features(top_artist_rel)\n",
    "    X = np.array([[f['energy'], f['tempo'], f['valence']] for f in track_features])\n",
    "    kmeans = KMeans(n_clusters=5, random_state=0).fit(X)\n",
    "\n",
    "    recommended_tracks = recommend_tracks(track_data, track_features, kmeans)\n",
    "    print(f\"Recommendations for '{track_data['name']}':\")\n",
    "    for track in recommended_tracks:\n",
    "        print(f\"{track['name']} by {track['artist']} from the album '{track['album']}' - {track['url']}\")\n",
    "\n",
    "if __name__ == \"__main__\":\n",
    "    main()\n"
   ]
  },
  {
   "cell_type": "code",
   "execution_count": 1,
   "id": "627ce853-852f-43a3-aa6d-1d2153759ecd",
   "metadata": {},
   "outputs": [],
   "source": [
    "import spotipy\n",
    "from spotipy.oauth2 import SpotifyClientCredentials\n",
    "import re\n",
    "import os\n",
    "import env\n",
    "from sklearn.cluster import KMeans\n",
    "import numpy as np\n",
    "from sklearn.metrics.pairwise import euclidean_distances\n",
    "\n",
    "# Initialize Spotipy with Spotify API credentials\n",
    "sp = spotipy.Spotify(auth_manager=SpotifyClientCredentials(\n",
    "    client_id=env.SPOTIPY_CLIENT_ID,\n",
    "    client_secret=env.SPOTIPY_CLIENT_SECRET\n",
    "))"
   ]
  },
  {
   "cell_type": "code",
   "execution_count": 2,
   "id": "b19e5c26-a5b5-4f3f-8e20-5546e0218e3d",
   "metadata": {},
   "outputs": [],
   "source": [
    "def extract_track_id(spotify_url):\n",
    "    match = re.match(r'(https?://open\\.spotify\\.com/track/|spotify:track:)([a-zA-Z0-9]+)', spotify_url)\n",
    "    if match:\n",
    "        return match.group(2)\n",
    "    else:\n",
    "        raise ValueError(\"Invalid Spotify URL\")"
   ]
  },
  {
   "cell_type": "code",
   "execution_count": 11,
   "id": "3653688a-6ce8-4bf8-aa3b-9b4fcf0fdcd3",
   "metadata": {},
   "outputs": [],
   "source": [
    "def get_track_details(track_id):\n",
    "    track = sp.track(track_id)\n",
    "    features = sp.audio_features(track_id)\n",
    "    album_art_url = track['album']['images'][0]['url']  # Extract album art URL from track information\n",
    "    return {\n",
    "        'id': track_id,\n",
    "        'name': track['name'],\n",
    "        'artist': track['artists'][0]['name'],\n",
    "        'artist_id': track['artists'][0]['id'],\n",
    "        'album': track['album']['name'],\n",
    "        'release_date': track['album']['release_date'],\n",
    "        'energy': features[0]['energy'],\n",
    "        'tempo': features[0]['tempo'],\n",
    "        'valence': features[0]['valence'],\n",
    "        'url': track['external_urls']['spotify'],\n",
    "        'album_art_url': album_art_url  # Include album art URL in the dictionary\n",
    "    }\n"
   ]
  },
  {
   "cell_type": "code",
   "execution_count": 4,
   "id": "58fcc632-4081-4b32-b949-85203b020d62",
   "metadata": {},
   "outputs": [],
   "source": [
    "def get_related_artists(artist_id):\n",
    "    related_artists = sp.artist_related_artists(artist_id)\n",
    "    return [artist['id'] for artist in related_artists['artists']]"
   ]
  },
  {
   "cell_type": "code",
   "execution_count": 5,
   "id": "99e558ac-1938-487d-8cd0-1f40590aad85",
   "metadata": {},
   "outputs": [],
   "source": [
    "def get_artist_top_tracks(artist_id):\n",
    "    top_tracks = sp.artist_top_tracks(artist_id)\n",
    "    return [track['id'] for track in top_tracks['tracks']]"
   ]
  },
  {
   "cell_type": "code",
   "execution_count": 6,
   "id": "1fa37984-13b8-4248-b50d-f11903d126c1",
   "metadata": {},
   "outputs": [],
   "source": [
    "def get_related_top(related_artists):\n",
    "    related_top_tracks = []\n",
    "    for i in related_artists:\n",
    "        top_tracks = sp.artist_top_tracks(i)\n",
    "        related_top_tracks += [track['id'] for track in top_tracks['tracks']]\n",
    "    return related_top_tracks"
   ]
  },
  {
   "cell_type": "code",
   "execution_count": 12,
   "id": "cd4b3a9b-350f-4a18-9977-fd910365ea5c",
   "metadata": {},
   "outputs": [],
   "source": [
    "def get_related_features(top_artist_rel):\n",
    "    related_features = []\n",
    "    for i in top_artist_rel:\n",
    "        track = sp.track(i)\n",
    "        features = sp.audio_features(i)\n",
    "        album_art_url = track['album']['images'][0]['url']  # Extract album art URL from track information\n",
    "        related_features.append({\n",
    "            'id': i,\n",
    "            'name': track['name'],\n",
    "            'artist': track['artists'][0]['name'],\n",
    "            'artist_id': track['artists'][0]['id'],\n",
    "            'album': track['album']['name'],\n",
    "            'release_date': track['album']['release_date'],\n",
    "            'energy': features[0]['energy'],\n",
    "            'tempo': features[0]['tempo'],\n",
    "            'valence': features[0]['valence'],\n",
    "            'url': track['external_urls']['spotify'],\n",
    "            'album_art_url': album_art_url  # Include album art URL in the dictionary\n",
    "        })\n",
    "    return related_features\n"
   ]
  },
  {
   "cell_type": "code",
   "execution_count": 8,
   "id": "b9bebb50-d7a2-4e4f-9e61-042e33465ccb",
   "metadata": {},
   "outputs": [],
   "source": [
    "def recommend_tracks(track_data, track_features, kmeans_model, n_recommendations=3):\n",
    "    input_features = np.array([[track_data['energy'], track_data['tempo'], track_data['valence']]])\n",
    "    input_cluster = kmeans_model.predict(input_features)[0]\n",
    "    \n",
    "    cluster_indices = [i for i, label in enumerate(kmeans_model.labels_) if label == input_cluster]\n",
    "    \n",
    "    cluster_tracks = [track_features[i] for i in cluster_indices]\n",
    "    cluster_features = np.array([[f['energy'], f['tempo'], f['valence']] for f in cluster_tracks])\n",
    "    \n",
    "    distances = euclidean_distances(input_features, cluster_features)[0]\n",
    "    closest_indices = distances.argsort()[:n_recommendations + 1]  # Get one extra to account for input track\n",
    "    \n",
    "    recommended_tracks = [cluster_tracks[i] for i in closest_indices if cluster_tracks[i]['id'] != track_data['id']]\n",
    "    \n",
    "    return recommended_tracks[:n_recommendations]\n"
   ]
  },
  {
   "cell_type": "code",
   "execution_count": 9,
   "id": "539c7371-7d76-43d5-a5ee-21848562dbe0",
   "metadata": {},
   "outputs": [
    {
     "name": "stdin",
     "output_type": "stream",
     "text": [
      "Input your Spotify track URL here:  https://open.spotify.com/track/3850dYVgOFIXJh5U4BFEWH?si=2c073391990e436c\n"
     ]
    },
    {
     "name": "stderr",
     "output_type": "stream",
     "text": [
      "/Users/akirichenko/anaconda3/lib/python3.11/site-packages/sklearn/cluster/_kmeans.py:870: FutureWarning: The default value of `n_init` will change from 10 to 'auto' in 1.4. Set the value of `n_init` explicitly to suppress the warning\n",
      "  warnings.warn(\n"
     ]
    },
    {
     "name": "stdout",
     "output_type": "stream",
     "text": [
      "Recommendations for 'Hung Up':\n",
      "Love at First Sight by Kylie Minogue from the album 'Fever' - https://open.spotify.com/track/6ua8mbyHXTHpAmGyGpFAS2\n",
      "I Get Lonely by Janet Jackson from the album 'The Velvet Rope' - https://open.spotify.com/track/4FTq81I0X4J6y9X06GcZIN\n",
      "Eat Your Man (with Nelly Furtado) by Dom Dolla from the album 'Eat Your Man (with Nelly Furtado)' - https://open.spotify.com/track/6Ea2oEzysv4UECGNxL1IEW\n"
     ]
    }
   ],
   "source": [
    "def main():\n",
    "    spotify_url = input(\"Input your Spotify track URL here: \")\n",
    "    track_id = extract_track_id(spotify_url)\n",
    "    track_data = get_track_details(track_id)\n",
    "    artist_id = track_data['artist_id']\n",
    "    related_artists = get_related_artists(artist_id)\n",
    "    top_artist_rel = get_related_top(related_artists)\n",
    "    track_features = get_related_features(top_artist_rel)\n",
    "    X = np.array([[f['energy'], f['tempo'], f['valence']] for f in track_features])\n",
    "    kmeans = KMeans(n_clusters=5, random_state=0).fit(X)\n",
    "\n",
    "    recommended_tracks = recommend_tracks(track_data, track_features, kmeans)\n",
    "    print(f\"Recommendations for '{track_data['name']}':\")\n",
    "    for track in recommended_tracks:\n",
    "        print(f\"{track['name']} by {track['artist']} from the album '{track['album']}' - {track['url']}\")\n",
    "\n",
    "if __name__ == \"__main__\":\n",
    "    main()"
   ]
  },
  {
   "cell_type": "code",
   "execution_count": 13,
   "id": "0bac60c0-b3d5-4506-9d10-22c799635880",
   "metadata": {},
   "outputs": [
    {
     "name": "stdin",
     "output_type": "stream",
     "text": [
      "Input your Spotify track URL here:  https://open.spotify.com/track/5e6aBUgUCRdoxIVXhuQSml?si=a385601d811a45c4\n"
     ]
    },
    {
     "name": "stdout",
     "output_type": "stream",
     "text": [
      "Recommendations for 'Phenomena' by Brutalismus 3000:\n",
      "Title: Rave Stabba\n",
      "Album: Rave Killa EP\n",
      "Artist: Doruksen\n",
      "Cover: https://i.scdn.co/image/ab67616d0000b273245d6a9b5bc87b2816741775\n",
      "URL: https://open.spotify.com/track/1V0vWwpBldwfDnFMwkk3rH\n",
      "\n",
      "Title: Rude Boy Selecta\n",
      "Album: Rude Boy Selecta\n",
      "Artist: Charlie Sparks (UK)\n",
      "Cover: https://i.scdn.co/image/ab67616d0000b2738f48162f0c392f04a16f4a8b\n",
      "URL: https://open.spotify.com/track/7JxGS66UO9Ql08zRR0p7WI\n",
      "\n",
      "Title: Sims 2000\n",
      "Album: Sanctus\n",
      "Artist: Indecorum\n",
      "Cover: https://i.scdn.co/image/ab67616d0000b2737b7fb46fd5ea7ca6259e74ab\n",
      "URL: https://open.spotify.com/track/4uFEwF6V0eGYj9j1CATNMx\n",
      "\n"
     ]
    },
    {
     "name": "stderr",
     "output_type": "stream",
     "text": [
      "/Users/akirichenko/anaconda3/lib/python3.11/site-packages/sklearn/cluster/_kmeans.py:870: FutureWarning: The default value of `n_init` will change from 10 to 'auto' in 1.4. Set the value of `n_init` explicitly to suppress the warning\n",
      "  warnings.warn(\n"
     ]
    }
   ],
   "source": [
    "def main():\n",
    "    spotify_url = input(\"Input your Spotify track URL here: \")\n",
    "    track_id = extract_track_id(spotify_url)\n",
    "    track_data = get_track_details(track_id)\n",
    "    artist_id = track_data['artist_id']\n",
    "    related_artists = get_related_artists(artist_id)\n",
    "    top_artist_rel = get_related_top(related_artists)\n",
    "    track_features = get_related_features(top_artist_rel)\n",
    "    X = np.array([[f['energy'], f['tempo'], f['valence']] for f in track_features])\n",
    "    kmeans = KMeans(n_clusters=5, random_state=0).fit(X)\n",
    "\n",
    "    recommended_tracks = recommend_tracks(track_data, track_features, kmeans)\n",
    "    print(f\"Recommendations for '{track_data['name']}' by {track_data['artist']}:\")\n",
    "    for track in recommended_tracks:\n",
    "        print(f\"Title: {track['name']}\\n\"\n",
    "              f\"Album: {track['album']}\\n\"\n",
    "              f\"Artist: {track['artist']}\\n\"\n",
    "              f\"Cover: {track['album_art_url']}\\n\"\n",
    "              f\"URL: {track['url']}\\n\")\n",
    "\n",
    "if __name__ == \"__main__\":\n",
    "    main()\n"
   ]
  },
  {
   "cell_type": "code",
   "execution_count": null,
   "id": "f3ef44df-aedc-4cd2-920e-7573c1390979",
   "metadata": {},
   "outputs": [],
   "source": []
  }
 ],
 "metadata": {
  "kernelspec": {
   "display_name": "Python 3 (ipykernel)",
   "language": "python",
   "name": "python3"
  },
  "language_info": {
   "codemirror_mode": {
    "name": "ipython",
    "version": 3
   },
   "file_extension": ".py",
   "mimetype": "text/x-python",
   "name": "python",
   "nbconvert_exporter": "python",
   "pygments_lexer": "ipython3",
   "version": "3.11.5"
  }
 },
 "nbformat": 4,
 "nbformat_minor": 5
}
